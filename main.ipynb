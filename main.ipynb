{
 "cells": [
  {
   "cell_type": "code",
   "execution_count": 10,
   "metadata": {},
   "outputs": [
    {
     "data": {
      "text/html": [
       "<script>requirejs.config({paths: { 'plotly': ['https://cdn.plot.ly/plotly-latest.min']},});if(!window.Plotly) {{require(['plotly'],function(plotly) {window.Plotly=plotly;});}}</script>"
      ],
      "text/vnd.plotly.v1+html": [
       "<script>requirejs.config({paths: { 'plotly': ['https://cdn.plot.ly/plotly-latest.min']},});if(!window.Plotly) {{require(['plotly'],function(plotly) {window.Plotly=plotly;});}}</script>"
      ]
     },
     "metadata": {},
     "output_type": "display_data"
    }
   ],
   "source": [
    "import pandas as pd\n",
    "import nltk\n",
    "import functions\n",
    "import plotly.plotly as py\n",
    "import plotly.graph_objs as go\n",
    "from __future__ import division\n",
    "from plotly import __version__\n",
    "from plotly.offline import download_plotlyjs, init_notebook_mode, plot, iplot\n",
    "from plotly.graph_objs import Scatter, Figure, Layout, Bar\n",
    "from plotly.graph_objs import *\n",
    "init_notebook_mode(connected = True)"
   ]
  },
  {
   "cell_type": "code",
   "execution_count": 11,
   "metadata": {},
   "outputs": [],
   "source": [
    "text_data = pd.read_csv('tweets.csv')\n",
    "df = pd.DataFrame({\"Time Str\": text_data['created_str'], \"Time\": text_data['created_at'], \"Tweet\": text_data['text']})"
   ]
  },
  {
   "cell_type": "code",
   "execution_count": 12,
   "metadata": {},
   "outputs": [],
   "source": [
    "df = df.sort_values(by=['Time'])\n",
    "df = df.dropna(axis=0, how='all')\n",
    "df = df.reset_index()"
   ]
  },
  {
   "cell_type": "code",
   "execution_count": 26,
   "metadata": {},
   "outputs": [],
   "source": [
    "f = pd.DataFrame({\"Date\": df['Time Str'], \"Time\": df['Time'], \"Tweet\": df['Tweet']})\n",
    "s = functions.polarizeFrame(f['Date'], f['Tweet']).truncate(after = 199999)\n",
    "s.to_csv('data.csv')"
   ]
  },
  {
   "cell_type": "code",
   "execution_count": 21,
   "metadata": {},
   "outputs": [
    {
     "data": {
      "text/plain": [
       "38.87069435347177"
      ]
     },
     "execution_count": 21,
     "metadata": {},
     "output_type": "execute_result"
    }
   ],
   "source": [
    "pos_count = 0\n",
    "neg_count = 0\n",
    "neu_count = 0\n",
    "for i in range(0, s['Compound'].size-1):\n",
    "    if s['Compound'][i] > 0:\n",
    "        pos_count += 1\n",
    "    if s['Compound'][i] < 0:\n",
    "        neg_count += 1\n",
    "    if s['Compound'][i] == 0:\n",
    "        neu_count += 1\n",
    "pos_per = (pos_count/(pos_count+neg_count+neu_count))*100\n",
    "neg_per = (neg_count/(pos_count+neg_count+neu_count))*100\n",
    "neu_per = (neu_count/(pos_count+neg_count+neu_count))*100"
   ]
  },
  {
   "cell_type": "code",
   "execution_count": 27,
   "metadata": {},
   "outputs": [
    {
     "data": {
      "text/plain": [
       "61049"
      ]
     },
     "execution_count": 27,
     "metadata": {},
     "output_type": "execute_result"
    }
   ],
   "source": [
    "pos_count"
   ]
  },
  {
   "cell_type": "code",
   "execution_count": 28,
   "metadata": {},
   "outputs": [
    {
     "data": {
      "text/plain": [
       "61209"
      ]
     },
     "execution_count": 28,
     "metadata": {},
     "output_type": "execute_result"
    }
   ],
   "source": [
    "neg_count"
   ]
  },
  {
   "cell_type": "code",
   "execution_count": 29,
   "metadata": {},
   "outputs": [
    {
     "data": {
      "text/plain": [
       "77741"
      ]
     },
     "execution_count": 29,
     "metadata": {},
     "output_type": "execute_result"
    }
   ],
   "source": [
    "neu_count"
   ]
  },
  {
   "cell_type": "code",
   "execution_count": 25,
   "metadata": {},
   "outputs": [
    {
     "data": {
      "application/vnd.plotly.v1+json": {
       "data": [
        {
         "labels": [
          "Positive",
          "Negative",
          "Neutral"
         ],
         "type": "pie",
         "values": [
          61049,
          61209,
          77741
         ]
        }
       ],
       "layout": {}
      },
      "text/html": [
       "<div id=\"3134d532-b872-49e8-a938-e7e6732c9939\" style=\"height: 525px; width: 100%;\" class=\"plotly-graph-div\"></div><script type=\"text/javascript\">require([\"plotly\"], function(Plotly) { window.PLOTLYENV=window.PLOTLYENV || {};window.PLOTLYENV.BASE_URL=\"https://plot.ly\";Plotly.newPlot(\"3134d532-b872-49e8-a938-e7e6732c9939\", [{\"type\": \"pie\", \"labels\": [\"Positive\", \"Negative\", \"Neutral\"], \"values\": [61049, 61209, 77741]}], {}, {\"showLink\": true, \"linkText\": \"Export to plot.ly\"})});</script>"
      ],
      "text/vnd.plotly.v1+html": [
       "<div id=\"3134d532-b872-49e8-a938-e7e6732c9939\" style=\"height: 525px; width: 100%;\" class=\"plotly-graph-div\"></div><script type=\"text/javascript\">require([\"plotly\"], function(Plotly) { window.PLOTLYENV=window.PLOTLYENV || {};window.PLOTLYENV.BASE_URL=\"https://plot.ly\";Plotly.newPlot(\"3134d532-b872-49e8-a938-e7e6732c9939\", [{\"type\": \"pie\", \"labels\": [\"Positive\", \"Negative\", \"Neutral\"], \"values\": [61049, 61209, 77741]}], {}, {\"showLink\": true, \"linkText\": \"Export to plot.ly\"})});</script>"
      ]
     },
     "metadata": {},
     "output_type": "display_data"
    }
   ],
   "source": [
    "labels = ['Positive', 'Negative', 'Neutral']\n",
    "values = [pos_count, neg_count, neu_count]\n",
    "\n",
    "trace = go.Pie(labels=labels, values=values)\n",
    "\n",
    "iplot([trace], filename='basic_pie_chart')"
   ]
  },
  {
   "cell_type": "code",
   "execution_count": null,
   "metadata": {},
   "outputs": [],
   "source": [
    "w = s['Text'].str.lower()"
   ]
  },
  {
   "cell_type": "code",
   "execution_count": 4,
   "metadata": {},
   "outputs": [],
   "source": [
    "df['Tweet'].to_csv(r'russian.txt', header=None, index=None, sep=' ', mode='a')\n",
    "content = open('russian.txt').read()\n",
    "words = nltk.word_tokenize(content)"
   ]
  },
  {
   "cell_type": "code",
   "execution_count": 6,
   "metadata": {},
   "outputs": [],
   "source": [
    "w_ten = functions.addToFrame('Words', functions.mostCommonWords(words, 10))"
   ]
  },
  {
   "cell_type": "code",
   "execution_count": null,
   "metadata": {},
   "outputs": [],
   "source": [
    "w_ten"
   ]
  },
  {
   "cell_type": "code",
   "execution_count": 9,
   "metadata": {},
   "outputs": [],
   "source": [
    "h_ten = functions.addToFrame('Hashtags', functions.hashTagPhrases(w, 10))"
   ]
  },
  {
   "cell_type": "code",
   "execution_count": null,
   "metadata": {},
   "outputs": [],
   "source": [
    "h_ten"
   ]
  },
  {
   "cell_type": "code",
   "execution_count": 8,
   "metadata": {},
   "outputs": [],
   "source": [
    "values = [3893, 3661, 2810, 2609, 2127, 2016, 1569, 1123, 1101, 1100]\n",
    "phases = ['#tcot', '#politics', '#pjnet', '#maga', '#news', '#trump', '#ccot', '#merkelmussbleiben', '#trumpforpresident', '#wakeupamerica']\n",
    "\n",
    "\n",
    "colors = ['rgb(32,155,160)', 'rgb(253,93,124)', 'rgb(28,119,139)', 'rgb(182,231,235)', 'rgb(35,154,160)', 'rgb(45,32,193)', 'rgb(123,167,33)', 'rgb(34,55,78)', 'rgb(109,33,165)', 'rgb(76,89,145)']\n",
    "\n",
    "n_phase = len(phases)\n",
    "plot_width = 400\n",
    "\n",
    "# height of a section and difference between sections \n",
    "section_h = 100\n",
    "section_d = 10\n",
    "\n",
    "# multiplication factor to calculate the width of other sections\n",
    "unit_width = plot_width / max(values)\n",
    "\n",
    "# width of each funnel section relative to the plot width\n",
    "phase_w = [int(value * unit_width) for value in values]\n",
    "\n",
    "# plot height based on the number of sections and the gap in between them\n",
    "height = section_h * n_phase + section_d * (n_phase - 1)\n",
    "\n",
    "\n",
    "# list containing all the plot shapes\n",
    "shapes = []\n",
    "\n",
    "# list containing the Y-axis location for each section's name and value text\n",
    "label_y = []\n",
    "\n",
    "for i in range(n_phase):\n",
    "        if (i == n_phase-1):\n",
    "                points = [phase_w[i] / 2, height, phase_w[i] / 2, height - section_h]\n",
    "        else:\n",
    "                points = [phase_w[i] / 2, height, phase_w[i+1] / 2, height - section_h]\n",
    "\n",
    "        path = 'M {0} {1} L {2} {3} L -{2} {3} L -{0} {1} Z'.format(*points)\n",
    "\n",
    "        shape = {\n",
    "                'type': 'path',\n",
    "                'path': path,\n",
    "                'fillcolor': colors[i],\n",
    "                'line': {\n",
    "                    'width': 1,\n",
    "                    'color': colors[i]\n",
    "                }\n",
    "        }\n",
    "        shapes.append(shape)\n",
    "        \n",
    "        # Y-axis location for this section's details (text)\n",
    "        label_y.append(height - (section_h) / 2)\n",
    "\n",
    "        height = height - (section_h + section_d)\n",
    "\n",
    "# For phase names\n",
    "label_trace = go.Scatter(\n",
    "    x=[-350]*n_phase,\n",
    "    y=label_y,\n",
    "    mode='text',\n",
    "    text=phases,\n",
    "    textfont=dict(\n",
    "        color='rgb(200,200,200)',\n",
    "        size=15\n",
    "    )\n",
    ")\n",
    " \n",
    "# For phase values\n",
    "value_trace = go.Scatter(\n",
    "    x=[350]*n_phase,\n",
    "    y=label_y,\n",
    "    mode='text',\n",
    "    text=values,\n",
    "    textfont=dict(\n",
    "        color='rgb(200,200,200)',\n",
    "        size=15\n",
    "    )\n",
    ")\n",
    "\n",
    "data = [label_trace, value_trace]\n",
    " \n",
    "layout = go.Layout(\n",
    "    title=\"<b>Top Ten Hashtags Used by Russian Bots</b>\",\n",
    "    titlefont=dict(\n",
    "        size=20,\n",
    "        color='rgb(203,203,203)'\n",
    "    ),\n",
    "    shapes=shapes,\n",
    "    height=560,\n",
    "    width=800,\n",
    "    showlegend=False,\n",
    "    paper_bgcolor='rgba(44,58,71,1)',\n",
    "    plot_bgcolor='rgba(44,58,71,1)',\n",
    "    xaxis=dict(\n",
    "        showticklabels=False,\n",
    "        zeroline=False,\n",
    "    ),\n",
    "    yaxis=dict(\n",
    "        showticklabels=False,\n",
    "        zeroline=False\n",
    "    ),\n",
    "    margin=go.Margin(\n",
    "        l=50,\n",
    "        r=50,\n",
    "        b=50,\n",
    "        t=100,\n",
    "        pad=4\n",
    "    )\n",
    ")\n",
    " \n",
    "fig1 = go.Figure(data=data, layout=layout)"
   ]
  },
  {
   "cell_type": "code",
   "execution_count": 11,
   "metadata": {},
   "outputs": [],
   "source": [
    "m_ten = functions.addToFrame('Mentions', functions.mostMentions(w, 10))"
   ]
  },
  {
   "cell_type": "code",
   "execution_count": 12,
   "metadata": {},
   "outputs": [
    {
     "data": {
      "text/html": [
       "<div>\n",
       "<style scoped>\n",
       "    .dataframe tbody tr th:only-of-type {\n",
       "        vertical-align: middle;\n",
       "    }\n",
       "\n",
       "    .dataframe tbody tr th {\n",
       "        vertical-align: top;\n",
       "    }\n",
       "\n",
       "    .dataframe thead th {\n",
       "        text-align: right;\n",
       "    }\n",
       "</style>\n",
       "<table border=\"1\" class=\"dataframe\">\n",
       "  <thead>\n",
       "    <tr style=\"text-align: right;\">\n",
       "      <th></th>\n",
       "      <th>Frequency</th>\n",
       "      <th>Mentions</th>\n",
       "    </tr>\n",
       "  </thead>\n",
       "  <tbody>\n",
       "    <tr>\n",
       "      <th>0</th>\n",
       "      <td>4325</td>\n",
       "      <td>@realdonaldtrump</td>\n",
       "    </tr>\n",
       "    <tr>\n",
       "      <th>1</th>\n",
       "      <td>2414</td>\n",
       "      <td>@midnight</td>\n",
       "    </tr>\n",
       "    <tr>\n",
       "      <th>2</th>\n",
       "      <td>2181</td>\n",
       "      <td>@blicqer</td>\n",
       "    </tr>\n",
       "    <tr>\n",
       "      <th>3</th>\n",
       "      <td>2080</td>\n",
       "      <td>@hillaryclinton</td>\n",
       "    </tr>\n",
       "    <tr>\n",
       "      <th>4</th>\n",
       "      <td>1105</td>\n",
       "      <td>@conservatexian</td>\n",
       "    </tr>\n",
       "    <tr>\n",
       "      <th>5</th>\n",
       "      <td>854</td>\n",
       "      <td>@potus</td>\n",
       "    </tr>\n",
       "    <tr>\n",
       "      <th>6</th>\n",
       "      <td>740</td>\n",
       "      <td>@foxnews</td>\n",
       "    </tr>\n",
       "    <tr>\n",
       "      <th>7</th>\n",
       "      <td>573</td>\n",
       "      <td>@youtube</td>\n",
       "    </tr>\n",
       "    <tr>\n",
       "      <th>8</th>\n",
       "      <td>552</td>\n",
       "      <td>@prisonplanet</td>\n",
       "    </tr>\n",
       "    <tr>\n",
       "      <th>9</th>\n",
       "      <td>512</td>\n",
       "      <td>@cnn</td>\n",
       "    </tr>\n",
       "  </tbody>\n",
       "</table>\n",
       "</div>"
      ],
      "text/plain": [
       "   Frequency          Mentions\n",
       "0       4325  @realdonaldtrump\n",
       "1       2414         @midnight\n",
       "2       2181          @blicqer\n",
       "3       2080   @hillaryclinton\n",
       "4       1105   @conservatexian\n",
       "5        854            @potus\n",
       "6        740          @foxnews\n",
       "7        573          @youtube\n",
       "8        552     @prisonplanet\n",
       "9        512              @cnn"
      ]
     },
     "execution_count": 12,
     "metadata": {},
     "output_type": "execute_result"
    }
   ],
   "source": [
    "m_ten"
   ]
  },
  {
   "cell_type": "code",
   "execution_count": 9,
   "metadata": {},
   "outputs": [
    {
     "data": {
      "application/vnd.plotly.v1+json": {
       "data": [
        {
         "mode": "text",
         "text": [
          "#tcot",
          "#politics",
          "#pjnet",
          "#maga",
          "#news",
          "#trump",
          "#ccot",
          "#merkelmussbleiben",
          "#trumpforpresident",
          "#wakeupamerica"
         ],
         "textfont": {
          "color": "rgb(200,200,200)",
          "size": 15
         },
         "type": "scatter",
         "x": [
          -350,
          -350,
          -350,
          -350,
          -350,
          -350,
          -350,
          -350,
          -350,
          -350
         ],
         "y": [
          1040,
          930,
          820,
          710,
          600,
          490,
          380,
          270,
          160,
          50
         ]
        },
        {
         "mode": "text",
         "text": [
          3893,
          3661,
          2810,
          2609,
          2127,
          2016,
          1569,
          1123,
          1101,
          1100
         ],
         "textfont": {
          "color": "rgb(200,200,200)",
          "size": 15
         },
         "type": "scatter",
         "x": [
          350,
          350,
          350,
          350,
          350,
          350,
          350,
          350,
          350,
          350
         ],
         "y": [
          1040,
          930,
          820,
          710,
          600,
          490,
          380,
          270,
          160,
          50
         ]
        }
       ],
       "layout": {
        "height": 560,
        "margin": {
         "b": 50,
         "l": 50,
         "pad": 4,
         "r": 50,
         "t": 100
        },
        "paper_bgcolor": "rgba(44,58,71,1)",
        "plot_bgcolor": "rgba(44,58,71,1)",
        "shapes": [
         {
          "fillcolor": "rgb(32,155,160)",
          "line": {
           "color": "rgb(32,155,160)",
           "width": 1
          },
          "path": "M 200.0 1090 L 188.0 990 L -188.0 990 L -200.0 1090 Z",
          "type": "path"
         },
         {
          "fillcolor": "rgb(253,93,124)",
          "line": {
           "color": "rgb(253,93,124)",
           "width": 1
          },
          "path": "M 188.0 980 L 144.0 880 L -144.0 880 L -188.0 980 Z",
          "type": "path"
         },
         {
          "fillcolor": "rgb(28,119,139)",
          "line": {
           "color": "rgb(28,119,139)",
           "width": 1
          },
          "path": "M 144.0 870 L 134.0 770 L -134.0 770 L -144.0 870 Z",
          "type": "path"
         },
         {
          "fillcolor": "rgb(182,231,235)",
          "line": {
           "color": "rgb(182,231,235)",
           "width": 1
          },
          "path": "M 134.0 760 L 109.0 660 L -109.0 660 L -134.0 760 Z",
          "type": "path"
         },
         {
          "fillcolor": "rgb(35,154,160)",
          "line": {
           "color": "rgb(35,154,160)",
           "width": 1
          },
          "path": "M 109.0 650 L 103.5 550 L -103.5 550 L -109.0 650 Z",
          "type": "path"
         },
         {
          "fillcolor": "rgb(45,32,193)",
          "line": {
           "color": "rgb(45,32,193)",
           "width": 1
          },
          "path": "M 103.5 540 L 80.5 440 L -80.5 440 L -103.5 540 Z",
          "type": "path"
         },
         {
          "fillcolor": "rgb(123,167,33)",
          "line": {
           "color": "rgb(123,167,33)",
           "width": 1
          },
          "path": "M 80.5 430 L 57.5 330 L -57.5 330 L -80.5 430 Z",
          "type": "path"
         },
         {
          "fillcolor": "rgb(34,55,78)",
          "line": {
           "color": "rgb(34,55,78)",
           "width": 1
          },
          "path": "M 57.5 320 L 56.5 220 L -56.5 220 L -57.5 320 Z",
          "type": "path"
         },
         {
          "fillcolor": "rgb(109,33,165)",
          "line": {
           "color": "rgb(109,33,165)",
           "width": 1
          },
          "path": "M 56.5 210 L 56.5 110 L -56.5 110 L -56.5 210 Z",
          "type": "path"
         },
         {
          "fillcolor": "rgb(76,89,145)",
          "line": {
           "color": "rgb(76,89,145)",
           "width": 1
          },
          "path": "M 56.5 100 L 56.5 0 L -56.5 0 L -56.5 100 Z",
          "type": "path"
         }
        ],
        "showlegend": false,
        "title": "<b>Top Ten Hashtags Used by Russian Bots</b>",
        "titlefont": {
         "color": "rgb(203,203,203)",
         "size": 20
        },
        "width": 800,
        "xaxis": {
         "showticklabels": false,
         "zeroline": false
        },
        "yaxis": {
         "showticklabels": false,
         "zeroline": false
        }
       }
      },
      "text/html": [
       "<div id=\"b2dbc27b-368d-4cce-86b1-49d0c7420b33\" style=\"height: 560px; width: 800px;\" class=\"plotly-graph-div\"></div><script type=\"text/javascript\">require([\"plotly\"], function(Plotly) { window.PLOTLYENV=window.PLOTLYENV || {};window.PLOTLYENV.BASE_URL=\"https://plot.ly\";Plotly.newPlot(\"b2dbc27b-368d-4cce-86b1-49d0c7420b33\", [{\"type\": \"scatter\", \"x\": [-350, -350, -350, -350, -350, -350, -350, -350, -350, -350], \"y\": [1040.0, 930.0, 820.0, 710.0, 600.0, 490.0, 380.0, 270.0, 160.0, 50.0], \"mode\": \"text\", \"text\": [\"#tcot\", \"#politics\", \"#pjnet\", \"#maga\", \"#news\", \"#trump\", \"#ccot\", \"#merkelmussbleiben\", \"#trumpforpresident\", \"#wakeupamerica\"], \"textfont\": {\"color\": \"rgb(200,200,200)\", \"size\": 15}}, {\"type\": \"scatter\", \"x\": [350, 350, 350, 350, 350, 350, 350, 350, 350, 350], \"y\": [1040.0, 930.0, 820.0, 710.0, 600.0, 490.0, 380.0, 270.0, 160.0, 50.0], \"mode\": \"text\", \"text\": [3893, 3661, 2810, 2609, 2127, 2016, 1569, 1123, 1101, 1100], \"textfont\": {\"color\": \"rgb(200,200,200)\", \"size\": 15}}], {\"title\": \"<b>Top Ten Hashtags Used by Russian Bots</b>\", \"titlefont\": {\"size\": 20, \"color\": \"rgb(203,203,203)\"}, \"shapes\": [{\"type\": \"path\", \"path\": \"M 200.0 1090 L 188.0 990 L -188.0 990 L -200.0 1090 Z\", \"fillcolor\": \"rgb(32,155,160)\", \"line\": {\"width\": 1, \"color\": \"rgb(32,155,160)\"}}, {\"type\": \"path\", \"path\": \"M 188.0 980 L 144.0 880 L -144.0 880 L -188.0 980 Z\", \"fillcolor\": \"rgb(253,93,124)\", \"line\": {\"width\": 1, \"color\": \"rgb(253,93,124)\"}}, {\"type\": \"path\", \"path\": \"M 144.0 870 L 134.0 770 L -134.0 770 L -144.0 870 Z\", \"fillcolor\": \"rgb(28,119,139)\", \"line\": {\"width\": 1, \"color\": \"rgb(28,119,139)\"}}, {\"type\": \"path\", \"path\": \"M 134.0 760 L 109.0 660 L -109.0 660 L -134.0 760 Z\", \"fillcolor\": \"rgb(182,231,235)\", \"line\": {\"width\": 1, \"color\": \"rgb(182,231,235)\"}}, {\"type\": \"path\", \"path\": \"M 109.0 650 L 103.5 550 L -103.5 550 L -109.0 650 Z\", \"fillcolor\": \"rgb(35,154,160)\", \"line\": {\"width\": 1, \"color\": \"rgb(35,154,160)\"}}, {\"type\": \"path\", \"path\": \"M 103.5 540 L 80.5 440 L -80.5 440 L -103.5 540 Z\", \"fillcolor\": \"rgb(45,32,193)\", \"line\": {\"width\": 1, \"color\": \"rgb(45,32,193)\"}}, {\"type\": \"path\", \"path\": \"M 80.5 430 L 57.5 330 L -57.5 330 L -80.5 430 Z\", \"fillcolor\": \"rgb(123,167,33)\", \"line\": {\"width\": 1, \"color\": \"rgb(123,167,33)\"}}, {\"type\": \"path\", \"path\": \"M 57.5 320 L 56.5 220 L -56.5 220 L -57.5 320 Z\", \"fillcolor\": \"rgb(34,55,78)\", \"line\": {\"width\": 1, \"color\": \"rgb(34,55,78)\"}}, {\"type\": \"path\", \"path\": \"M 56.5 210 L 56.5 110 L -56.5 110 L -56.5 210 Z\", \"fillcolor\": \"rgb(109,33,165)\", \"line\": {\"width\": 1, \"color\": \"rgb(109,33,165)\"}}, {\"type\": \"path\", \"path\": \"M 56.5 100 L 56.5 0 L -56.5 0 L -56.5 100 Z\", \"fillcolor\": \"rgb(76,89,145)\", \"line\": {\"width\": 1, \"color\": \"rgb(76,89,145)\"}}], \"height\": 560, \"width\": 800, \"showlegend\": false, \"paper_bgcolor\": \"rgba(44,58,71,1)\", \"plot_bgcolor\": \"rgba(44,58,71,1)\", \"xaxis\": {\"showticklabels\": false, \"zeroline\": false}, \"yaxis\": {\"showticklabels\": false, \"zeroline\": false}, \"margin\": {\"l\": 50, \"r\": 50, \"b\": 50, \"t\": 100, \"pad\": 4}}, {\"showLink\": true, \"linkText\": \"Export to plot.ly\"})});</script>"
      ],
      "text/vnd.plotly.v1+html": [
       "<div id=\"b2dbc27b-368d-4cce-86b1-49d0c7420b33\" style=\"height: 560px; width: 800px;\" class=\"plotly-graph-div\"></div><script type=\"text/javascript\">require([\"plotly\"], function(Plotly) { window.PLOTLYENV=window.PLOTLYENV || {};window.PLOTLYENV.BASE_URL=\"https://plot.ly\";Plotly.newPlot(\"b2dbc27b-368d-4cce-86b1-49d0c7420b33\", [{\"type\": \"scatter\", \"x\": [-350, -350, -350, -350, -350, -350, -350, -350, -350, -350], \"y\": [1040.0, 930.0, 820.0, 710.0, 600.0, 490.0, 380.0, 270.0, 160.0, 50.0], \"mode\": \"text\", \"text\": [\"#tcot\", \"#politics\", \"#pjnet\", \"#maga\", \"#news\", \"#trump\", \"#ccot\", \"#merkelmussbleiben\", \"#trumpforpresident\", \"#wakeupamerica\"], \"textfont\": {\"color\": \"rgb(200,200,200)\", \"size\": 15}}, {\"type\": \"scatter\", \"x\": [350, 350, 350, 350, 350, 350, 350, 350, 350, 350], \"y\": [1040.0, 930.0, 820.0, 710.0, 600.0, 490.0, 380.0, 270.0, 160.0, 50.0], \"mode\": \"text\", \"text\": [3893, 3661, 2810, 2609, 2127, 2016, 1569, 1123, 1101, 1100], \"textfont\": {\"color\": \"rgb(200,200,200)\", \"size\": 15}}], {\"title\": \"<b>Top Ten Hashtags Used by Russian Bots</b>\", \"titlefont\": {\"size\": 20, \"color\": \"rgb(203,203,203)\"}, \"shapes\": [{\"type\": \"path\", \"path\": \"M 200.0 1090 L 188.0 990 L -188.0 990 L -200.0 1090 Z\", \"fillcolor\": \"rgb(32,155,160)\", \"line\": {\"width\": 1, \"color\": \"rgb(32,155,160)\"}}, {\"type\": \"path\", \"path\": \"M 188.0 980 L 144.0 880 L -144.0 880 L -188.0 980 Z\", \"fillcolor\": \"rgb(253,93,124)\", \"line\": {\"width\": 1, \"color\": \"rgb(253,93,124)\"}}, {\"type\": \"path\", \"path\": \"M 144.0 870 L 134.0 770 L -134.0 770 L -144.0 870 Z\", \"fillcolor\": \"rgb(28,119,139)\", \"line\": {\"width\": 1, \"color\": \"rgb(28,119,139)\"}}, {\"type\": \"path\", \"path\": \"M 134.0 760 L 109.0 660 L -109.0 660 L -134.0 760 Z\", \"fillcolor\": \"rgb(182,231,235)\", \"line\": {\"width\": 1, \"color\": \"rgb(182,231,235)\"}}, {\"type\": \"path\", \"path\": \"M 109.0 650 L 103.5 550 L -103.5 550 L -109.0 650 Z\", \"fillcolor\": \"rgb(35,154,160)\", \"line\": {\"width\": 1, \"color\": \"rgb(35,154,160)\"}}, {\"type\": \"path\", \"path\": \"M 103.5 540 L 80.5 440 L -80.5 440 L -103.5 540 Z\", \"fillcolor\": \"rgb(45,32,193)\", \"line\": {\"width\": 1, \"color\": \"rgb(45,32,193)\"}}, {\"type\": \"path\", \"path\": \"M 80.5 430 L 57.5 330 L -57.5 330 L -80.5 430 Z\", \"fillcolor\": \"rgb(123,167,33)\", \"line\": {\"width\": 1, \"color\": \"rgb(123,167,33)\"}}, {\"type\": \"path\", \"path\": \"M 57.5 320 L 56.5 220 L -56.5 220 L -57.5 320 Z\", \"fillcolor\": \"rgb(34,55,78)\", \"line\": {\"width\": 1, \"color\": \"rgb(34,55,78)\"}}, {\"type\": \"path\", \"path\": \"M 56.5 210 L 56.5 110 L -56.5 110 L -56.5 210 Z\", \"fillcolor\": \"rgb(109,33,165)\", \"line\": {\"width\": 1, \"color\": \"rgb(109,33,165)\"}}, {\"type\": \"path\", \"path\": \"M 56.5 100 L 56.5 0 L -56.5 0 L -56.5 100 Z\", \"fillcolor\": \"rgb(76,89,145)\", \"line\": {\"width\": 1, \"color\": \"rgb(76,89,145)\"}}], \"height\": 560, \"width\": 800, \"showlegend\": false, \"paper_bgcolor\": \"rgba(44,58,71,1)\", \"plot_bgcolor\": \"rgba(44,58,71,1)\", \"xaxis\": {\"showticklabels\": false, \"zeroline\": false}, \"yaxis\": {\"showticklabels\": false, \"zeroline\": false}, \"margin\": {\"l\": 50, \"r\": 50, \"b\": 50, \"t\": 100, \"pad\": 4}}, {\"showLink\": true, \"linkText\": \"Export to plot.ly\"})});</script>"
      ]
     },
     "metadata": {},
     "output_type": "display_data"
    },
    {
     "data": {
      "application/vnd.plotly.v1+json": {
       "data": [
        {
         "marker": {
          "color": "rgba(109,33,165, 0.6)",
          "line": {
           "color": "rgba(76,89,145, 1.0)",
           "width": 2
          }
         },
         "orientation": "h",
         "type": "bar",
         "x": [
          1105
         ],
         "y": [
          "@conservatexian"
         ]
        },
        {
         "marker": {
          "color": "rgba(123,167,33, 0.6)",
          "line": {
           "color": "rgba(34,55,78, 1.0)",
           "width": 2
          }
         },
         "orientation": "h",
         "type": "bar",
         "x": [
          2080
         ],
         "y": [
          "@hillaryclinton"
         ]
        },
        {
         "marker": {
          "color": "rgba(35,154,160, 0.6)",
          "line": {
           "color": "rgba(45,32,193, 1.0)",
           "width": 2
          }
         },
         "orientation": "h",
         "type": "bar",
         "x": [
          2181
         ],
         "y": [
          "@blicqer"
         ]
        },
        {
         "marker": {
          "color": "rgba(28,119,139, 0.6)",
          "line": {
           "color": "rgba(182,231,235, 1.0)",
           "width": 2
          }
         },
         "orientation": "h",
         "type": "bar",
         "x": [
          2414
         ],
         "y": [
          "@midnight"
         ]
        },
        {
         "marker": {
          "color": "rgba(32,155,160, 0.6)",
          "line": {
           "color": "rgba(253,93,124, 1.0)",
           "width": 2
          }
         },
         "orientation": "h",
         "type": "bar",
         "x": [
          4325
         ],
         "y": [
          "@realdonaldtrump"
         ]
        }
       ],
       "layout": {
        "barmode": "stack",
        "font": {
         "color": "#cbcbcb",
         "family": "Courier New, monospace",
         "size": 10
        },
        "height": 560,
        "margin": {
         "b": 100,
         "l": 150,
         "pad": 4,
         "r": 50,
         "t": 100
        },
        "paper_bgcolor": "rgba(44,58,71,1)",
        "plot_bgcolor": "rgba(44,58,71,1)",
        "showlegend": false,
        "title": "<b>Top Five Mentions by Russian Bots</b>",
        "titlefont": {
         "color": "rgb(203,203,203)",
         "size": 20
        },
        "width": 800
       }
      },
      "text/html": [
       "<div id=\"e4e4f444-cb89-4a4e-ab11-0017a0af5c6e\" style=\"height: 560px; width: 800px;\" class=\"plotly-graph-div\"></div><script type=\"text/javascript\">require([\"plotly\"], function(Plotly) { window.PLOTLYENV=window.PLOTLYENV || {};window.PLOTLYENV.BASE_URL=\"https://plot.ly\";Plotly.newPlot(\"e4e4f444-cb89-4a4e-ab11-0017a0af5c6e\", [{\"type\": \"bar\", \"y\": [\"@conservatexian\"], \"x\": [1105], \"orientation\": \"h\", \"marker\": {\"color\": \"rgba(109,33,165, 0.6)\", \"line\": {\"color\": \"rgba(76,89,145, 1.0)\", \"width\": 2}}}, {\"type\": \"bar\", \"y\": [\"@hillaryclinton\"], \"x\": [2080], \"orientation\": \"h\", \"marker\": {\"color\": \"rgba(123,167,33, 0.6)\", \"line\": {\"color\": \"rgba(34,55,78, 1.0)\", \"width\": 2}}}, {\"type\": \"bar\", \"y\": [\"@blicqer\"], \"x\": [2181], \"orientation\": \"h\", \"marker\": {\"color\": \"rgba(35,154,160, 0.6)\", \"line\": {\"color\": \"rgba(45,32,193, 1.0)\", \"width\": 2}}}, {\"type\": \"bar\", \"y\": [\"@midnight\"], \"x\": [2414], \"orientation\": \"h\", \"marker\": {\"color\": \"rgba(28,119,139, 0.6)\", \"line\": {\"color\": \"rgba(182,231,235, 1.0)\", \"width\": 2}}}, {\"type\": \"bar\", \"y\": [\"@realdonaldtrump\"], \"x\": [4325], \"orientation\": \"h\", \"marker\": {\"color\": \"rgba(32,155,160, 0.6)\", \"line\": {\"color\": \"rgba(253,93,124, 1.0)\", \"width\": 2}}}], {\"title\": \"<b>Top Five Mentions by Russian Bots</b>\", \"titlefont\": {\"size\": 20, \"color\": \"rgb(203,203,203)\"}, \"font\": {\"family\": \"Courier New, monospace\", \"size\": 10, \"color\": \"#cbcbcb\"}, \"barmode\": \"stack\", \"height\": 560, \"width\": 800, \"showlegend\": false, \"paper_bgcolor\": \"rgba(44,58,71,1)\", \"plot_bgcolor\": \"rgba(44,58,71,1)\", \"margin\": {\"l\": 150, \"r\": 50, \"b\": 100, \"t\": 100, \"pad\": 4}}, {\"showLink\": true, \"linkText\": \"Export to plot.ly\"})});</script>"
      ],
      "text/vnd.plotly.v1+html": [
       "<div id=\"e4e4f444-cb89-4a4e-ab11-0017a0af5c6e\" style=\"height: 560px; width: 800px;\" class=\"plotly-graph-div\"></div><script type=\"text/javascript\">require([\"plotly\"], function(Plotly) { window.PLOTLYENV=window.PLOTLYENV || {};window.PLOTLYENV.BASE_URL=\"https://plot.ly\";Plotly.newPlot(\"e4e4f444-cb89-4a4e-ab11-0017a0af5c6e\", [{\"type\": \"bar\", \"y\": [\"@conservatexian\"], \"x\": [1105], \"orientation\": \"h\", \"marker\": {\"color\": \"rgba(109,33,165, 0.6)\", \"line\": {\"color\": \"rgba(76,89,145, 1.0)\", \"width\": 2}}}, {\"type\": \"bar\", \"y\": [\"@hillaryclinton\"], \"x\": [2080], \"orientation\": \"h\", \"marker\": {\"color\": \"rgba(123,167,33, 0.6)\", \"line\": {\"color\": \"rgba(34,55,78, 1.0)\", \"width\": 2}}}, {\"type\": \"bar\", \"y\": [\"@blicqer\"], \"x\": [2181], \"orientation\": \"h\", \"marker\": {\"color\": \"rgba(35,154,160, 0.6)\", \"line\": {\"color\": \"rgba(45,32,193, 1.0)\", \"width\": 2}}}, {\"type\": \"bar\", \"y\": [\"@midnight\"], \"x\": [2414], \"orientation\": \"h\", \"marker\": {\"color\": \"rgba(28,119,139, 0.6)\", \"line\": {\"color\": \"rgba(182,231,235, 1.0)\", \"width\": 2}}}, {\"type\": \"bar\", \"y\": [\"@realdonaldtrump\"], \"x\": [4325], \"orientation\": \"h\", \"marker\": {\"color\": \"rgba(32,155,160, 0.6)\", \"line\": {\"color\": \"rgba(253,93,124, 1.0)\", \"width\": 2}}}], {\"title\": \"<b>Top Five Mentions by Russian Bots</b>\", \"titlefont\": {\"size\": 20, \"color\": \"rgb(203,203,203)\"}, \"font\": {\"family\": \"Courier New, monospace\", \"size\": 10, \"color\": \"#cbcbcb\"}, \"barmode\": \"stack\", \"height\": 560, \"width\": 800, \"showlegend\": false, \"paper_bgcolor\": \"rgba(44,58,71,1)\", \"plot_bgcolor\": \"rgba(44,58,71,1)\", \"margin\": {\"l\": 150, \"r\": 50, \"b\": 100, \"t\": 100, \"pad\": 4}}, {\"showLink\": true, \"linkText\": \"Export to plot.ly\"})});</script>"
      ]
     },
     "metadata": {},
     "output_type": "display_data"
    }
   ],
   "source": [
    "trace1 = go.Bar(\n",
    "    y=['@realdonaldtrump'],\n",
    "    x=[4325],\n",
    "    orientation = 'h',\n",
    "    marker = dict(\n",
    "        color = 'rgba(32,155,160, 0.6)',\n",
    "        line = dict(\n",
    "            color = 'rgba(253,93,124, 1.0)',\n",
    "            width = 2)\n",
    "    )\n",
    ")\n",
    "trace2 = go.Bar(\n",
    "    y=['@midnight'],\n",
    "    x=[2414],\n",
    "    orientation = 'h',\n",
    "    marker = dict(\n",
    "        color = 'rgba(28,119,139, 0.6)',\n",
    "        line = dict(\n",
    "            color = 'rgba(182,231,235, 1.0)',\n",
    "            width = 2)\n",
    "    )\n",
    ")\n",
    "\n",
    "trace3 = go.Bar(\n",
    "    y=['@blicqer'],\n",
    "    x=[2181],\n",
    "    orientation = 'h',\n",
    "    marker = dict(\n",
    "        color = 'rgba(35,154,160, 0.6)',\n",
    "        line = dict(\n",
    "            color = 'rgba(45,32,193, 1.0)',\n",
    "            width = 2)\n",
    "    )\n",
    ")\n",
    "\n",
    "trace4 = go.Bar(\n",
    "    y = ['@hillaryclinton'],\n",
    "    x=[2080],\n",
    "    orientation = 'h',\n",
    "    marker = dict(\n",
    "        color = 'rgba(123,167,33, 0.6)',\n",
    "        line = dict(\n",
    "            color = 'rgba(34,55,78, 1.0)',\n",
    "            width = 2)\n",
    "    )\n",
    ")\n",
    "\n",
    "trace5 = go.Bar(\n",
    "    y=['@conservatexian'],\n",
    "    x=[1105],\n",
    "    orientation = 'h',\n",
    "    marker = dict(\n",
    "        color = 'rgba(109,33,165, 0.6)',\n",
    "        line = dict(\n",
    "            color = 'rgba(76,89,145, 1.0)',\n",
    "            width = 2)\n",
    "    )\n",
    ")\n",
    "\n",
    "\n",
    "data = [trace5, trace4, trace3, trace2, trace1]\n",
    "layout = go.Layout(\n",
    "    title=\"<b>Top Five Mentions by Russian Bots</b>\",\n",
    "    titlefont=dict(\n",
    "        size=20,\n",
    "        color='rgb(203,203,203)'\n",
    "    ),\n",
    "    font=dict(family='Courier New, monospace', size=10, color='#cbcbcb'),\n",
    "    barmode='stack',\n",
    "    height=560,\n",
    "    width=800,\n",
    "    showlegend=False,\n",
    "    paper_bgcolor='rgba(44,58,71,1)',\n",
    "    plot_bgcolor='rgba(44,58,71,1)',\n",
    "    margin=go.Margin(\n",
    "        l=150,\n",
    "        r=50,\n",
    "        b=100,\n",
    "        t=100,\n",
    "        pad=4\n",
    "    )\n",
    ")\n",
    "\n",
    "fig = go.Figure(data=data, layout=layout)\n",
    "iplot(fig1)\n",
    "iplot(fig)"
   ]
  },
  {
   "cell_type": "code",
   "execution_count": null,
   "metadata": {},
   "outputs": [],
   "source": []
  }
 ],
 "metadata": {
  "kernelspec": {
   "display_name": "Python 3",
   "language": "python",
   "name": "python3"
  },
  "language_info": {
   "codemirror_mode": {
    "name": "ipython",
    "version": 3
   },
   "file_extension": ".py",
   "mimetype": "text/x-python",
   "name": "python",
   "nbconvert_exporter": "python",
   "pygments_lexer": "ipython3",
   "version": "3.6.4"
  }
 },
 "nbformat": 4,
 "nbformat_minor": 2
}
